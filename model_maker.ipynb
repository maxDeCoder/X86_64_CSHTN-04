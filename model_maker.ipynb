{
 "cells": [
  {
   "cell_type": "code",
   "execution_count": 1,
   "source": [
    "import nltk\r\n",
    "from nltk.stem import WordNetLemmatizer\r\n",
    "import numpy as np\r\n",
    "import json\r\n",
    "import random\r\n",
    "import pickle"
   ],
   "outputs": [
    {
     "output_type": "stream",
     "name": "stderr",
     "text": [
      "C:\\Users\\vedan\\AppData\\Local\\Programs\\Python\\Python38\\lib\\site-packages\\numpy\\_distributor_init.py:30: UserWarning: loaded more than 1 DLL from .libs:\n",
      "C:\\Users\\vedan\\AppData\\Local\\Programs\\Python\\Python38\\lib\\site-packages\\numpy\\.libs\\libopenblas.PYQHXLVVQ7VESDPUVUADXEVJOBGHJPAY.gfortran-win_amd64.dll\n",
      "C:\\Users\\vedan\\AppData\\Local\\Programs\\Python\\Python38\\lib\\site-packages\\numpy\\.libs\\libopenblas.XWYDX2IKJW2NMTWSFYNGFUWKQU3LYTCZ.gfortran-win_amd64.dll\n",
      "  warnings.warn(\"loaded more than 1 DLL from .libs:\"\n"
     ]
    }
   ],
   "metadata": {}
  },
  {
   "cell_type": "code",
   "execution_count": 2,
   "source": [
    "intents = json.load(open(\"intents.json\"))"
   ],
   "outputs": [],
   "metadata": {}
  },
  {
   "cell_type": "code",
   "execution_count": 3,
   "source": [
    "words = []\r\n",
    "classes = []\r\n",
    "docs = []\r\n",
    "ignore_tokens = ['?', '!', '.', ',']"
   ],
   "outputs": [],
   "metadata": {}
  },
  {
   "cell_type": "code",
   "execution_count": 4,
   "source": [
    "for intent in intents[\"intents\"]:\r\n",
    "    for pattern in intent[\"patterns\"]:\r\n",
    "        word_list = nltk.word_tokenize(pattern)\r\n",
    "        words.extend(word_list)\r\n",
    "        docs.append((word_list, intent[\"tag\"]))\r\n",
    "        if intent[\"tag\"] not in classes:\r\n",
    "            classes.append(intent[\"tag\"])"
   ],
   "outputs": [],
   "metadata": {}
  },
  {
   "cell_type": "code",
   "execution_count": 5,
   "source": [
    "lematizer = WordNetLemmatizer()"
   ],
   "outputs": [],
   "metadata": {}
  },
  {
   "cell_type": "code",
   "execution_count": 6,
   "source": [
    "words = [lematizer.lemmatize(word.lower()) for word in words if word not in ignore_tokens]"
   ],
   "outputs": [],
   "metadata": {}
  },
  {
   "cell_type": "code",
   "execution_count": 7,
   "source": [
    "words = sorted(set(words))"
   ],
   "outputs": [],
   "metadata": {}
  },
  {
   "cell_type": "code",
   "execution_count": 8,
   "source": [
    "pickle.dump(words, open(\"words.pkl\", \"wb\"))\r\n",
    "pickle.dump(classes, open(\"classes.pkl\", \"wb\"))"
   ],
   "outputs": [],
   "metadata": {}
  },
  {
   "cell_type": "code",
   "execution_count": 9,
   "source": [
    "training = []\r\n",
    "output_empty = [0] * len(classes)"
   ],
   "outputs": [],
   "metadata": {}
  },
  {
   "cell_type": "code",
   "execution_count": 10,
   "source": [
    "for doc in docs:\r\n",
    "    bag = []\r\n",
    "    word_patters = doc[0]\r\n",
    "    word_patters = [lematizer.lemmatize(word.lower()) for word in word_patters]\r\n",
    "    for word in words:\r\n",
    "        bag.append(1) if word in word_patters else bag.append(0)\r\n",
    "    \r\n",
    "    output_row = list(output_empty)\r\n",
    "    output_row[classes.index(doc[1])] = 1\r\n",
    "    training.append([bag, output_row])"
   ],
   "outputs": [],
   "metadata": {}
  },
  {
   "cell_type": "code",
   "execution_count": 11,
   "source": [
    "random.shuffle(training)\r\n",
    "training = np.array(training)"
   ],
   "outputs": [
    {
     "output_type": "stream",
     "name": "stderr",
     "text": [
      "C:\\Users\\vedan\\AppData\\Local\\Temp/ipykernel_17368/2739997722.py:2: VisibleDeprecationWarning: Creating an ndarray from ragged nested sequences (which is a list-or-tuple of lists-or-tuples-or ndarrays with different lengths or shapes) is deprecated. If you meant to do this, you must specify 'dtype=object' when creating the ndarray.\n",
      "  training = np.array(training)\n"
     ]
    }
   ],
   "metadata": {}
  },
  {
   "cell_type": "code",
   "execution_count": 12,
   "source": [
    "train_x = np.array(list(training[:, 0]))\r\n",
    "train_y = np.array(list(training[:, 1]))"
   ],
   "outputs": [],
   "metadata": {}
  },
  {
   "cell_type": "code",
   "execution_count": 13,
   "source": [
    "from tensorflow import keras\r\n",
    "from tensorflow.keras.models import Sequential\r\n",
    "from tensorflow.keras import layers"
   ],
   "outputs": [],
   "metadata": {}
  },
  {
   "cell_type": "code",
   "execution_count": 14,
   "source": [
    "model = Sequential([\r\n",
    "    layers.Dense(128, input_shape=(len(train_x[0]), ), activation=\"relu\"),\r\n",
    "    layers.Dropout(0.5),\r\n",
    "    layers.Dense(64, activation='relu'),\r\n",
    "    layers.Dense(len(train_y[0]), activation=\"softmax\")\r\n",
    "])\r\n",
    "model.compile(\r\n",
    "    optimizer=\"adam\",\r\n",
    "    loss=\"categorical_crossentropy\",\r\n",
    "    metrics=[\"acc\"]\r\n",
    ")"
   ],
   "outputs": [],
   "metadata": {}
  },
  {
   "cell_type": "code",
   "execution_count": 15,
   "source": [
    "model.summary()"
   ],
   "outputs": [
    {
     "output_type": "stream",
     "name": "stdout",
     "text": [
      "Model: \"sequential\"\n",
      "_________________________________________________________________\n",
      "Layer (type)                 Output Shape              Param #   \n",
      "=================================================================\n",
      "dense (Dense)                (None, 128)               15232     \n",
      "_________________________________________________________________\n",
      "dropout (Dropout)            (None, 128)               0         \n",
      "_________________________________________________________________\n",
      "dense_1 (Dense)              (None, 64)                8256      \n",
      "_________________________________________________________________\n",
      "dense_2 (Dense)              (None, 8)                 520       \n",
      "=================================================================\n",
      "Total params: 24,008\n",
      "Trainable params: 24,008\n",
      "Non-trainable params: 0\n",
      "_________________________________________________________________\n"
     ]
    }
   ],
   "metadata": {}
  },
  {
   "cell_type": "code",
   "execution_count": 16,
   "source": [
    "model.fit(train_x, train_y, epochs=100)"
   ],
   "outputs": [
    {
     "output_type": "stream",
     "name": "stdout",
     "text": [
      "Epoch 1/100\n",
      "2/2 [==============================] - 1s 4ms/step - loss: 2.1058 - acc: 0.1521\n",
      "Epoch 2/100\n",
      "2/2 [==============================] - 0s 4ms/step - loss: 2.0580 - acc: 0.1861\n",
      "Epoch 3/100\n",
      "2/2 [==============================] - 0s 5ms/step - loss: 1.9728 - acc: 0.3472\n",
      "Epoch 4/100\n",
      "2/2 [==============================] - 0s 4ms/step - loss: 1.9113 - acc: 0.3806\n",
      "Epoch 5/100\n",
      "2/2 [==============================] - 0s 4ms/step - loss: 1.8229 - acc: 0.4778\n",
      "Epoch 6/100\n",
      "2/2 [==============================] - 0s 5ms/step - loss: 1.7626 - acc: 0.4681\n",
      "Epoch 7/100\n",
      "2/2 [==============================] - 0s 4ms/step - loss: 1.7120 - acc: 0.4993\n",
      "Epoch 8/100\n",
      "2/2 [==============================] - 0s 5ms/step - loss: 1.6538 - acc: 0.4681\n",
      "Epoch 9/100\n",
      "2/2 [==============================] - 0s 5ms/step - loss: 1.6124 - acc: 0.4667\n",
      "Epoch 10/100\n",
      "2/2 [==============================] - 0s 4ms/step - loss: 1.5630 - acc: 0.4556\n",
      "Epoch 11/100\n",
      "2/2 [==============================] - 0s 4ms/step - loss: 1.5215 - acc: 0.4347\n",
      "Epoch 12/100\n",
      "2/2 [==============================] - 0s 4ms/step - loss: 1.3839 - acc: 0.4986\n",
      "Epoch 13/100\n",
      "2/2 [==============================] - 0s 4ms/step - loss: 1.4394 - acc: 0.4347\n",
      "Epoch 14/100\n",
      "2/2 [==============================] - 0s 4ms/step - loss: 1.3466 - acc: 0.4458\n",
      "Epoch 15/100\n",
      "2/2 [==============================] - 0s 4ms/step - loss: 1.3689 - acc: 0.4243\n",
      "Epoch 16/100\n",
      "2/2 [==============================] - 0s 4ms/step - loss: 1.3184 - acc: 0.4347\n",
      "Epoch 17/100\n",
      "2/2 [==============================] - 0s 4ms/step - loss: 1.3094 - acc: 0.4458\n",
      "Epoch 18/100\n",
      "2/2 [==============================] - 0s 5ms/step - loss: 1.2757 - acc: 0.4556\n",
      "Epoch 19/100\n",
      "2/2 [==============================] - 0s 6ms/step - loss: 1.3296 - acc: 0.3826\n",
      "Epoch 20/100\n",
      "2/2 [==============================] - 0s 4ms/step - loss: 1.2536 - acc: 0.4465\n",
      "Epoch 21/100\n",
      "2/2 [==============================] - 0s 4ms/step - loss: 1.2164 - acc: 0.4250\n",
      "Epoch 22/100\n",
      "2/2 [==============================] - 0s 5ms/step - loss: 1.1221 - acc: 0.4667\n",
      "Epoch 23/100\n",
      "2/2 [==============================] - 0s 4ms/step - loss: 1.0935 - acc: 0.4896\n",
      "Epoch 24/100\n",
      "2/2 [==============================] - 0s 5ms/step - loss: 1.0813 - acc: 0.4569\n",
      "Epoch 25/100\n",
      "2/2 [==============================] - 0s 4ms/step - loss: 1.0467 - acc: 0.5632\n",
      "Epoch 26/100\n",
      "2/2 [==============================] - 0s 5ms/step - loss: 1.0919 - acc: 0.5118\n",
      "Epoch 27/100\n",
      "2/2 [==============================] - 0s 4ms/step - loss: 1.0472 - acc: 0.5646\n",
      "Epoch 28/100\n",
      "2/2 [==============================] - 0s 4ms/step - loss: 1.0781 - acc: 0.6097\n",
      "Epoch 29/100\n",
      "2/2 [==============================] - 0s 5ms/step - loss: 1.0037 - acc: 0.7174\n",
      "Epoch 30/100\n",
      "2/2 [==============================] - 0s 5ms/step - loss: 0.9163 - acc: 0.6625\n",
      "Epoch 31/100\n",
      "2/2 [==============================] - 0s 4ms/step - loss: 1.0124 - acc: 0.6312\n",
      "Epoch 32/100\n",
      "2/2 [==============================] - 0s 5ms/step - loss: 0.8840 - acc: 0.7056\n",
      "Epoch 33/100\n",
      "2/2 [==============================] - 0s 3ms/step - loss: 0.9542 - acc: 0.7069\n",
      "Epoch 34/100\n",
      "2/2 [==============================] - 0s 4ms/step - loss: 0.9065 - acc: 0.7181\n",
      "Epoch 35/100\n",
      "2/2 [==============================] - 0s 4ms/step - loss: 0.8594 - acc: 0.7819\n",
      "Epoch 36/100\n",
      "2/2 [==============================] - 0s 4ms/step - loss: 0.8580 - acc: 0.7396\n",
      "Epoch 37/100\n",
      "2/2 [==============================] - 0s 4ms/step - loss: 0.8406 - acc: 0.7722\n",
      "Epoch 38/100\n",
      "2/2 [==============================] - 0s 5ms/step - loss: 0.7636 - acc: 0.8694\n",
      "Epoch 39/100\n",
      "2/2 [==============================] - 0s 4ms/step - loss: 0.8560 - acc: 0.7833\n",
      "Epoch 40/100\n",
      "2/2 [==============================] - 0s 5ms/step - loss: 0.7278 - acc: 0.8486\n",
      "Epoch 41/100\n",
      "2/2 [==============================] - 0s 4ms/step - loss: 0.7575 - acc: 0.7833\n",
      "Epoch 42/100\n",
      "2/2 [==============================] - 0s 5ms/step - loss: 0.7493 - acc: 0.8812\n",
      "Epoch 43/100\n",
      "2/2 [==============================] - 0s 5ms/step - loss: 0.6964 - acc: 0.8368\n",
      "Epoch 44/100\n",
      "2/2 [==============================] - 0s 4ms/step - loss: 0.6766 - acc: 0.8375\n",
      "Epoch 45/100\n",
      "2/2 [==============================] - 0s 4ms/step - loss: 0.6902 - acc: 0.8486\n",
      "Epoch 46/100\n",
      "2/2 [==============================] - 0s 4ms/step - loss: 0.5936 - acc: 0.9340\n",
      "Epoch 47/100\n",
      "2/2 [==============================] - 0s 5ms/step - loss: 0.6734 - acc: 0.8590\n",
      "Epoch 48/100\n",
      "2/2 [==============================] - 0s 4ms/step - loss: 0.5425 - acc: 0.9236\n",
      "Epoch 49/100\n",
      "2/2 [==============================] - 0s 5ms/step - loss: 0.5779 - acc: 0.9340\n",
      "Epoch 50/100\n",
      "2/2 [==============================] - 0s 4ms/step - loss: 0.5962 - acc: 0.9243\n",
      "Epoch 51/100\n",
      "2/2 [==============================] - 0s 5ms/step - loss: 0.5517 - acc: 0.9236\n",
      "Epoch 52/100\n",
      "2/2 [==============================] - 0s 4ms/step - loss: 0.5189 - acc: 0.9674\n",
      "Epoch 53/100\n",
      "2/2 [==============================] - 0s 4ms/step - loss: 0.5129 - acc: 0.9458\n",
      "Epoch 54/100\n",
      "2/2 [==============================] - 0s 3ms/step - loss: 0.4473 - acc: 1.0000\n",
      "Epoch 55/100\n",
      "2/2 [==============================] - 0s 4ms/step - loss: 0.5118 - acc: 0.9785\n",
      "Epoch 56/100\n",
      "2/2 [==============================] - 0s 5ms/step - loss: 0.5093 - acc: 0.9458\n",
      "Epoch 57/100\n",
      "2/2 [==============================] - 0s 4ms/step - loss: 0.4208 - acc: 0.9889\n",
      "Epoch 58/100\n",
      "2/2 [==============================] - 0s 5ms/step - loss: 0.4395 - acc: 0.9569\n",
      "Epoch 59/100\n",
      "2/2 [==============================] - 0s 4ms/step - loss: 0.4062 - acc: 1.0000\n",
      "Epoch 60/100\n",
      "2/2 [==============================] - 0s 4ms/step - loss: 0.4032 - acc: 0.9569\n",
      "Epoch 61/100\n",
      "2/2 [==============================] - 0s 4ms/step - loss: 0.4286 - acc: 0.9778\n",
      "Epoch 62/100\n",
      "2/2 [==============================] - 0s 5ms/step - loss: 0.3676 - acc: 0.9674\n",
      "Epoch 63/100\n",
      "2/2 [==============================] - 0s 4ms/step - loss: 0.3715 - acc: 0.9674\n",
      "Epoch 64/100\n",
      "2/2 [==============================] - 0s 4ms/step - loss: 0.3037 - acc: 1.0000\n",
      "Epoch 65/100\n",
      "2/2 [==============================] - 0s 4ms/step - loss: 0.3417 - acc: 1.0000\n",
      "Epoch 66/100\n",
      "2/2 [==============================] - 0s 4ms/step - loss: 0.3147 - acc: 0.9347\n",
      "Epoch 67/100\n",
      "2/2 [==============================] - 0s 5ms/step - loss: 0.2594 - acc: 1.0000\n",
      "Epoch 68/100\n",
      "2/2 [==============================] - 0s 4ms/step - loss: 0.3314 - acc: 0.9785\n",
      "Epoch 69/100\n",
      "2/2 [==============================] - 0s 4ms/step - loss: 0.2891 - acc: 1.0000\n",
      "Epoch 70/100\n",
      "2/2 [==============================] - 0s 5ms/step - loss: 0.2659 - acc: 0.9785\n",
      "Epoch 71/100\n",
      "2/2 [==============================] - 0s 5ms/step - loss: 0.2322 - acc: 0.9785\n",
      "Epoch 72/100\n",
      "2/2 [==============================] - 0s 4ms/step - loss: 0.2847 - acc: 0.9785\n",
      "Epoch 73/100\n",
      "2/2 [==============================] - 0s 4ms/step - loss: 0.2603 - acc: 0.9785\n",
      "Epoch 74/100\n",
      "2/2 [==============================] - 0s 5ms/step - loss: 0.1712 - acc: 0.9889\n",
      "Epoch 75/100\n",
      "2/2 [==============================] - 0s 5ms/step - loss: 0.2186 - acc: 0.9889\n",
      "Epoch 76/100\n",
      "2/2 [==============================] - 0s 5ms/step - loss: 0.1909 - acc: 0.9889\n",
      "Epoch 77/100\n",
      "2/2 [==============================] - 0s 5ms/step - loss: 0.2207 - acc: 0.9889\n",
      "Epoch 78/100\n",
      "2/2 [==============================] - 0s 4ms/step - loss: 0.2241 - acc: 0.9785\n",
      "Epoch 79/100\n",
      "2/2 [==============================] - 0s 6ms/step - loss: 0.1750 - acc: 0.9889\n",
      "Epoch 80/100\n",
      "2/2 [==============================] - 0s 5ms/step - loss: 0.1817 - acc: 0.9562\n",
      "Epoch 81/100\n",
      "2/2 [==============================] - 0s 4ms/step - loss: 0.1451 - acc: 1.0000\n",
      "Epoch 82/100\n",
      "2/2 [==============================] - 0s 6ms/step - loss: 0.1558 - acc: 0.9785\n",
      "Epoch 83/100\n",
      "2/2 [==============================] - 0s 5ms/step - loss: 0.1188 - acc: 1.0000\n",
      "Epoch 84/100\n",
      "2/2 [==============================] - 0s 4ms/step - loss: 0.1302 - acc: 1.0000\n",
      "Epoch 85/100\n",
      "2/2 [==============================] - 0s 6ms/step - loss: 0.1226 - acc: 1.0000\n",
      "Epoch 86/100\n",
      "2/2 [==============================] - 0s 5ms/step - loss: 0.1985 - acc: 0.9569\n",
      "Epoch 87/100\n",
      "2/2 [==============================] - 0s 4ms/step - loss: 0.1568 - acc: 0.9889\n",
      "Epoch 88/100\n",
      "2/2 [==============================] - 0s 5ms/step - loss: 0.1131 - acc: 1.0000\n",
      "Epoch 89/100\n",
      "2/2 [==============================] - 0s 4ms/step - loss: 0.1096 - acc: 1.0000\n",
      "Epoch 90/100\n",
      "2/2 [==============================] - 0s 5ms/step - loss: 0.1271 - acc: 0.9674\n",
      "Epoch 91/100\n",
      "2/2 [==============================] - 0s 4ms/step - loss: 0.0757 - acc: 1.0000\n",
      "Epoch 92/100\n",
      "2/2 [==============================] - 0s 5ms/step - loss: 0.1001 - acc: 1.0000\n",
      "Epoch 93/100\n",
      "2/2 [==============================] - 0s 5ms/step - loss: 0.0984 - acc: 1.0000\n",
      "Epoch 94/100\n",
      "2/2 [==============================] - 0s 5ms/step - loss: 0.0801 - acc: 1.0000\n",
      "Epoch 95/100\n",
      "2/2 [==============================] - 0s 4ms/step - loss: 0.1043 - acc: 1.0000\n",
      "Epoch 96/100\n",
      "2/2 [==============================] - 0s 4ms/step - loss: 0.0967 - acc: 0.9785\n",
      "Epoch 97/100\n",
      "2/2 [==============================] - 0s 6ms/step - loss: 0.0792 - acc: 1.0000\n",
      "Epoch 98/100\n",
      "2/2 [==============================] - 0s 5ms/step - loss: 0.0988 - acc: 0.9785\n",
      "Epoch 99/100\n",
      "2/2 [==============================] - 0s 5ms/step - loss: 0.1180 - acc: 0.9785\n",
      "Epoch 100/100\n",
      "2/2 [==============================] - 0s 7ms/step - loss: 0.1052 - acc: 1.0000\n"
     ]
    },
    {
     "output_type": "execute_result",
     "data": {
      "text/plain": [
       "<tensorflow.python.keras.callbacks.History at 0x272056fbaf0>"
      ]
     },
     "metadata": {},
     "execution_count": 16
    }
   ],
   "metadata": {}
  },
  {
   "cell_type": "code",
   "execution_count": 17,
   "source": [
    "model.save(\"./models/bot_V1.model\")"
   ],
   "outputs": [
    {
     "output_type": "stream",
     "name": "stdout",
     "text": [
      "INFO:tensorflow:Assets written to: ./models/bot_V1.model\\assets\n"
     ]
    }
   ],
   "metadata": {}
  },
  {
   "cell_type": "code",
   "execution_count": 20,
   "source": [
    "model = keras.models.load_model(\"models/bot_V1.model\")\r\n",
    "words = pickle.load(open(\"words.pkl\", \"rb\"))\r\n",
    "classes = pickle.load(open(\"classes.pkl\", \"rb\"))"
   ],
   "outputs": [],
   "metadata": {}
  },
  {
   "cell_type": "code",
   "execution_count": 21,
   "source": [
    "def preprocess(item):\r\n",
    "    tokens = nltk.word_tokenize(item)\r\n",
    "    tokens = [lematizer.lemmatize(word) for word in tokens]\r\n",
    "    return tokens\r\n",
    "\r\n",
    "def bag_of_words(sentence):\r\n",
    "    sentence_words = preprocess(sentence)\r\n",
    "    bag = [0] * len(words)\r\n",
    "    for w in sentence_words:\r\n",
    "        for i, word in enumerate(words):\r\n",
    "            if word == w:\r\n",
    "                bag[i] = 1\r\n",
    "    \r\n",
    "    return np.array(bag)\r\n"
   ],
   "outputs": [],
   "metadata": {}
  },
  {
   "cell_type": "code",
   "execution_count": 22,
   "source": [
    "def predict_class(sentence, tolerance=0.7):\r\n",
    "    bow = bag_of_words(sentence)\r\n",
    "    prediction = model(np.array([bow]))[0]\r\n",
    "    max_value = max(prediction).numpy()\r\n",
    "    res = np.where(prediction.numpy() == max_value)[0][0]\r\n",
    "    if max_value >= tolerance:\r\n",
    "        return res\r\n",
    "    else:\r\n",
    "        return -1"
   ],
   "outputs": [],
   "metadata": {}
  },
  {
   "cell_type": "code",
   "execution_count": 23,
   "source": [
    "predict_class(\"Who made you\")"
   ],
   "outputs": [
    {
     "output_type": "execute_result",
     "data": {
      "text/plain": [
       "-1"
      ]
     },
     "metadata": {},
     "execution_count": 23
    }
   ],
   "metadata": {}
  },
  {
   "cell_type": "code",
   "execution_count": null,
   "source": [],
   "outputs": [],
   "metadata": {}
  }
 ],
 "metadata": {
  "orig_nbformat": 4,
  "language_info": {
   "name": "python",
   "version": "3.8.7",
   "mimetype": "text/x-python",
   "codemirror_mode": {
    "name": "ipython",
    "version": 3
   },
   "pygments_lexer": "ipython3",
   "nbconvert_exporter": "python",
   "file_extension": ".py"
  },
  "kernelspec": {
   "name": "python3",
   "display_name": "Python 3.8.7 64-bit"
  },
  "interpreter": {
   "hash": "94edbaacddaafd6d45ba5506bea1ce8a371c01e0c71d6cc8e1f8803236d6de55"
  }
 },
 "nbformat": 4,
 "nbformat_minor": 2
}