{
 "cells": [
  {
   "cell_type": "code",
   "execution_count": 1,
   "source": [
    "import nltk\r\n",
    "from nltk.stem import WordNetLemmatizer\r\n",
    "import numpy as np\r\n",
    "import json\r\n",
    "import random\r\n",
    "import pickle"
   ],
   "outputs": [
    {
     "output_type": "stream",
     "name": "stderr",
     "text": [
      "C:\\Users\\vedan\\AppData\\Local\\Programs\\Python\\Python38\\lib\\site-packages\\numpy\\_distributor_init.py:30: UserWarning: loaded more than 1 DLL from .libs:\n",
      "C:\\Users\\vedan\\AppData\\Local\\Programs\\Python\\Python38\\lib\\site-packages\\numpy\\.libs\\libopenblas.PYQHXLVVQ7VESDPUVUADXEVJOBGHJPAY.gfortran-win_amd64.dll\n",
      "C:\\Users\\vedan\\AppData\\Local\\Programs\\Python\\Python38\\lib\\site-packages\\numpy\\.libs\\libopenblas.XWYDX2IKJW2NMTWSFYNGFUWKQU3LYTCZ.gfortran-win_amd64.dll\n",
      "  warnings.warn(\"loaded more than 1 DLL from .libs:\"\n"
     ]
    }
   ],
   "metadata": {}
  },
  {
   "cell_type": "code",
   "execution_count": 2,
   "source": [
    "intents = json.load(open(\"intents.json\"))"
   ],
   "outputs": [],
   "metadata": {}
  },
  {
   "cell_type": "code",
   "execution_count": 3,
   "source": [
    "words = []\r\n",
    "classes = []\r\n",
    "docs = []\r\n",
    "ignore_tokens = ['?', '!', '.', ',']"
   ],
   "outputs": [],
   "metadata": {}
  },
  {
   "cell_type": "code",
   "execution_count": 4,
   "source": [
    "for intent in intents[\"intents\"]:\r\n",
    "    for pattern in intent[\"patterns\"]:\r\n",
    "        word_list = nltk.word_tokenize(pattern)\r\n",
    "        words.extend(word_list)\r\n",
    "        docs.append((word_list, intent[\"tag\"]))\r\n",
    "        if intent[\"tag\"] not in classes:\r\n",
    "            classes.append(intent[\"tag\"])"
   ],
   "outputs": [],
   "metadata": {}
  },
  {
   "cell_type": "code",
   "execution_count": 5,
   "source": [
    "lematizer = WordNetLemmatizer()"
   ],
   "outputs": [],
   "metadata": {}
  },
  {
   "cell_type": "code",
   "execution_count": 6,
   "source": [
    "words = [lematizer.lemmatize(word.lower()) for word in words if word not in ignore_tokens]"
   ],
   "outputs": [],
   "metadata": {}
  },
  {
   "cell_type": "code",
   "execution_count": 7,
   "source": [
    "words = sorted(set(words))"
   ],
   "outputs": [],
   "metadata": {}
  },
  {
   "cell_type": "code",
   "execution_count": 8,
   "source": [
    "pickle.dump(words, open(\"words.pkl\", \"wb\"))\r\n",
    "pickle.dump(classes, open(\"classes.pkl\", \"wb\"))"
   ],
   "outputs": [],
   "metadata": {}
  },
  {
   "cell_type": "code",
   "execution_count": 9,
   "source": [
    "training = []\r\n",
    "output_empty = [0] * len(classes)"
   ],
   "outputs": [],
   "metadata": {}
  },
  {
   "cell_type": "code",
   "execution_count": 10,
   "source": [
    "for doc in docs:\r\n",
    "    bag = []\r\n",
    "    word_patters = doc[0]\r\n",
    "    word_patters = [lematizer.lemmatize(word.lower()) for word in word_patters]\r\n",
    "    for word in words:\r\n",
    "        bag.append(1) if word in word_patters else bag.append(0)\r\n",
    "    \r\n",
    "    output_row = list(output_empty)\r\n",
    "    output_row[classes.index(doc[1])] = 1\r\n",
    "    training.append([bag, output_row])"
   ],
   "outputs": [],
   "metadata": {}
  },
  {
   "cell_type": "code",
   "execution_count": 11,
   "source": [
    "random.shuffle(training)\r\n",
    "training = np.array(training)"
   ],
   "outputs": [
    {
     "output_type": "stream",
     "name": "stderr",
     "text": [
      "C:\\Users\\vedan\\AppData\\Local\\Temp/ipykernel_9292/2739997722.py:2: VisibleDeprecationWarning: Creating an ndarray from ragged nested sequences (which is a list-or-tuple of lists-or-tuples-or ndarrays with different lengths or shapes) is deprecated. If you meant to do this, you must specify 'dtype=object' when creating the ndarray.\n",
      "  training = np.array(training)\n"
     ]
    }
   ],
   "metadata": {}
  },
  {
   "cell_type": "code",
   "execution_count": 12,
   "source": [
    "train_x = np.array(list(training[:, 0]))\r\n",
    "train_y = np.array(list(training[:, 1]))"
   ],
   "outputs": [],
   "metadata": {}
  },
  {
   "cell_type": "code",
   "execution_count": 13,
   "source": [
    "from tensorflow import keras\r\n",
    "from tensorflow.keras.models import Sequential\r\n",
    "from tensorflow.keras import layers"
   ],
   "outputs": [],
   "metadata": {}
  },
  {
   "cell_type": "code",
   "execution_count": 14,
   "source": [
    "model = Sequential([\r\n",
    "    layers.Dense(128, input_shape=(len(train_x[0]), ), activation=\"relu\"),\r\n",
    "    layers.Dropout(0.5),\r\n",
    "    layers.Dense(64, activation='relu'),\r\n",
    "    layers.Dense(len(train_y[0]), activation=\"softmax\")\r\n",
    "])\r\n",
    "model.compile(\r\n",
    "    optimizer=\"adam\",\r\n",
    "    loss=\"categorical_crossentropy\",\r\n",
    "    metrics=[\"acc\"]\r\n",
    ")"
   ],
   "outputs": [],
   "metadata": {}
  },
  {
   "cell_type": "code",
   "execution_count": 15,
   "source": [
    "model.summary()"
   ],
   "outputs": [
    {
     "output_type": "stream",
     "name": "stdout",
     "text": [
      "Model: \"sequential\"\n",
      "_________________________________________________________________\n",
      "Layer (type)                 Output Shape              Param #   \n",
      "=================================================================\n",
      "dense (Dense)                (None, 128)               17664     \n",
      "_________________________________________________________________\n",
      "dropout (Dropout)            (None, 128)               0         \n",
      "_________________________________________________________________\n",
      "dense_1 (Dense)              (None, 64)                8256      \n",
      "_________________________________________________________________\n",
      "dense_2 (Dense)              (None, 8)                 520       \n",
      "=================================================================\n",
      "Total params: 26,440\n",
      "Trainable params: 26,440\n",
      "Non-trainable params: 0\n",
      "_________________________________________________________________\n"
     ]
    }
   ],
   "metadata": {}
  },
  {
   "cell_type": "code",
   "execution_count": 16,
   "source": [
    "model.fit(train_x, train_y, epochs=100)"
   ],
   "outputs": [
    {
     "output_type": "stream",
     "name": "stdout",
     "text": [
      "Epoch 1/100\n",
      "3/3 [==============================] - 3s 128ms/step - loss: 2.1823 - acc: 0.1096\n",
      "Epoch 2/100\n",
      "3/3 [==============================] - 0s 63ms/step - loss: 2.0471 - acc: 0.1974\n",
      "Epoch 3/100\n",
      "3/3 [==============================] - 0s 83ms/step - loss: 1.9641 - acc: 0.2269\n",
      "Epoch 4/100\n",
      "3/3 [==============================] - 0s 33ms/step - loss: 1.8772 - acc: 0.4644\n",
      "Epoch 5/100\n",
      "3/3 [==============================] - 0s 28ms/step - loss: 1.8242 - acc: 0.5078\n",
      "Epoch 6/100\n",
      "3/3 [==============================] - 0s 30ms/step - loss: 1.7330 - acc: 0.5088\n",
      "Epoch 7/100\n",
      "3/3 [==============================] - 0s 25ms/step - loss: 1.6433 - acc: 0.5166\n",
      "Epoch 8/100\n",
      "3/3 [==============================] - 0s 24ms/step - loss: 1.5800 - acc: 0.5105\n",
      "Epoch 9/100\n",
      "3/3 [==============================] - 0s 18ms/step - loss: 1.4843 - acc: 0.5122\n",
      "Epoch 10/100\n",
      "3/3 [==============================] - 0s 24ms/step - loss: 1.4040 - acc: 0.5356\n",
      "Epoch 11/100\n",
      "3/3 [==============================] - 0s 22ms/step - loss: 1.3805 - acc: 0.5317\n",
      "Epoch 12/100\n",
      "3/3 [==============================] - 0s 22ms/step - loss: 1.3091 - acc: 0.5356\n",
      "Epoch 13/100\n",
      "3/3 [==============================] - 0s 22ms/step - loss: 1.2364 - acc: 0.5278\n",
      "Epoch 14/100\n",
      "3/3 [==============================] - 0s 25ms/step - loss: 1.2577 - acc: 0.5161\n",
      "Epoch 15/100\n",
      "3/3 [==============================] - 0s 28ms/step - loss: 1.1527 - acc: 0.5434\n",
      "Epoch 16/100\n",
      "3/3 [==============================] - 0s 5ms/step - loss: 1.1808 - acc: 0.5222\n",
      "Epoch 17/100\n",
      "3/3 [==============================] - 0s 4ms/step - loss: 1.0538 - acc: 0.5474\n",
      "Epoch 18/100\n",
      "3/3 [==============================] - 0s 4ms/step - loss: 1.1043 - acc: 0.5395\n",
      "Epoch 19/100\n",
      "3/3 [==============================] - 0s 4ms/step - loss: 1.0683 - acc: 0.5395\n",
      "Epoch 20/100\n",
      "3/3 [==============================] - 0s 4ms/step - loss: 1.0208 - acc: 0.5613\n",
      "Epoch 21/100\n",
      "3/3 [==============================] - 0s 3ms/step - loss: 1.0735 - acc: 0.5344\n",
      "Epoch 22/100\n",
      "3/3 [==============================] - 0s 4ms/step - loss: 1.0374 - acc: 0.5561\n",
      "Epoch 23/100\n",
      "3/3 [==============================] - 0s 3ms/step - loss: 0.9450 - acc: 0.5600\n",
      "Epoch 24/100\n",
      "3/3 [==============================] - 0s 4ms/step - loss: 0.9055 - acc: 0.6396\n",
      "Epoch 25/100\n",
      "3/3 [==============================] - 0s 3ms/step - loss: 0.8883 - acc: 0.6413\n",
      "Epoch 26/100\n",
      "3/3 [==============================] - 0s 3ms/step - loss: 0.8984 - acc: 0.6000\n",
      "Epoch 27/100\n",
      "3/3 [==============================] - 0s 4ms/step - loss: 0.8711 - acc: 0.6952\n",
      "Epoch 28/100\n",
      "3/3 [==============================] - 0s 4ms/step - loss: 0.8521 - acc: 0.6657\n",
      "Epoch 29/100\n",
      "3/3 [==============================] - 0s 3ms/step - loss: 0.8490 - acc: 0.6918\n",
      "Epoch 30/100\n",
      "3/3 [==============================] - 0s 4ms/step - loss: 0.8068 - acc: 0.6713\n",
      "Epoch 31/100\n",
      "3/3 [==============================] - 0s 4ms/step - loss: 0.8488 - acc: 0.6857\n",
      "Epoch 32/100\n",
      "3/3 [==============================] - 0s 3ms/step - loss: 0.7236 - acc: 0.7943\n",
      "Epoch 33/100\n",
      "3/3 [==============================] - 0s 3ms/step - loss: 0.8296 - acc: 0.6940\n",
      "Epoch 34/100\n",
      "3/3 [==============================] - 0s 3ms/step - loss: 0.7177 - acc: 0.7591\n",
      "Epoch 35/100\n",
      "3/3 [==============================] - 0s 3ms/step - loss: 0.6288 - acc: 0.8382\n",
      "Epoch 36/100\n",
      "3/3 [==============================] - 0s 3ms/step - loss: 0.6443 - acc: 0.8287\n",
      "Epoch 37/100\n",
      "3/3 [==============================] - 0s 3ms/step - loss: 0.6467 - acc: 0.8265\n",
      "Epoch 38/100\n",
      "3/3 [==============================] - 0s 3ms/step - loss: 0.6080 - acc: 0.8599\n",
      "Epoch 39/100\n",
      "3/3 [==============================] - 0s 4ms/step - loss: 0.6029 - acc: 0.8587\n",
      "Epoch 40/100\n",
      "3/3 [==============================] - 0s 4ms/step - loss: 0.5569 - acc: 0.8882\n",
      "Epoch 41/100\n",
      "3/3 [==============================] - 0s 3ms/step - loss: 0.5347 - acc: 0.8709\n",
      "Epoch 42/100\n",
      "3/3 [==============================] - 0s 4ms/step - loss: 0.5846 - acc: 0.8921\n",
      "Epoch 43/100\n",
      "3/3 [==============================] - 0s 3ms/step - loss: 0.5151 - acc: 0.8943\n",
      "Epoch 44/100\n",
      "3/3 [==============================] - 0s 3ms/step - loss: 0.4060 - acc: 0.9478\n",
      "Epoch 45/100\n",
      "3/3 [==============================] - 0s 3ms/step - loss: 0.4728 - acc: 0.9283\n",
      "Epoch 46/100\n",
      "3/3 [==============================] - 0s 3ms/step - loss: 0.3885 - acc: 0.9161\n",
      "Epoch 47/100\n",
      "3/3 [==============================] - 0s 3ms/step - loss: 0.4639 - acc: 0.9126\n",
      "Epoch 48/100\n",
      "3/3 [==============================] - 0s 3ms/step - loss: 0.4385 - acc: 0.9304\n",
      "Epoch 49/100\n",
      "3/3 [==============================] - 0s 3ms/step - loss: 0.3328 - acc: 0.9722\n",
      "Epoch 50/100\n",
      "3/3 [==============================] - 0s 3ms/step - loss: 0.3822 - acc: 0.9561\n",
      "Epoch 51/100\n",
      "3/3 [==============================] - 0s 3ms/step - loss: 0.3043 - acc: 0.9900\n",
      "Epoch 52/100\n",
      "3/3 [==============================] - 0s 3ms/step - loss: 0.3833 - acc: 0.9544\n",
      "Epoch 53/100\n",
      "3/3 [==============================] - 0s 4ms/step - loss: 0.3240 - acc: 0.9622\n",
      "Epoch 54/100\n",
      "3/3 [==============================] - 0s 3ms/step - loss: 0.3346 - acc: 0.9644\n",
      "Epoch 55/100\n",
      "3/3 [==============================] - 0s 3ms/step - loss: 0.3121 - acc: 0.9661\n",
      "Epoch 56/100\n",
      "3/3 [==============================] - 0s 3ms/step - loss: 0.3094 - acc: 0.9622\n",
      "Epoch 57/100\n",
      "3/3 [==============================] - 0s 3ms/step - loss: 0.2959 - acc: 0.9622\n",
      "Epoch 58/100\n",
      "3/3 [==============================] - 0s 3ms/step - loss: 0.3507 - acc: 0.9165\n",
      "Epoch 59/100\n",
      "3/3 [==============================] - 0s 3ms/step - loss: 0.2849 - acc: 0.9800\n",
      "Epoch 60/100\n",
      "3/3 [==============================] - 0s 3ms/step - loss: 0.2686 - acc: 0.9466\n",
      "Epoch 61/100\n",
      "3/3 [==============================] - 0s 3ms/step - loss: 0.2663 - acc: 0.9939\n",
      "Epoch 62/100\n",
      "3/3 [==============================] - 0s 3ms/step - loss: 0.1632 - acc: 0.9822\n",
      "Epoch 63/100\n",
      "3/3 [==============================] - 0s 4ms/step - loss: 0.2280 - acc: 1.0000\n",
      "Epoch 64/100\n",
      "3/3 [==============================] - 0s 3ms/step - loss: 0.2064 - acc: 0.9900\n",
      "Epoch 65/100\n",
      "3/3 [==============================] - 0s 3ms/step - loss: 0.1740 - acc: 0.9900\n",
      "Epoch 66/100\n",
      "3/3 [==============================] - 0s 3ms/step - loss: 0.1847 - acc: 0.9839\n",
      "Epoch 67/100\n",
      "3/3 [==============================] - 0s 3ms/step - loss: 0.1724 - acc: 0.9722\n",
      "Epoch 68/100\n",
      "3/3 [==============================] - 0s 3ms/step - loss: 0.1506 - acc: 0.9900\n",
      "Epoch 69/100\n",
      "3/3 [==============================] - 0s 3ms/step - loss: 0.1501 - acc: 1.0000\n",
      "Epoch 70/100\n",
      "3/3 [==============================] - 0s 3ms/step - loss: 0.1157 - acc: 1.0000\n",
      "Epoch 71/100\n",
      "3/3 [==============================] - 0s 3ms/step - loss: 0.1640 - acc: 0.9839\n",
      "Epoch 72/100\n",
      "3/3 [==============================] - 0s 3ms/step - loss: 0.0958 - acc: 1.0000\n",
      "Epoch 73/100\n",
      "3/3 [==============================] - 0s 3ms/step - loss: 0.1210 - acc: 0.9900\n",
      "Epoch 74/100\n",
      "3/3 [==============================] - 0s 3ms/step - loss: 0.1309 - acc: 1.0000\n",
      "Epoch 75/100\n",
      "3/3 [==============================] - 0s 3ms/step - loss: 0.1073 - acc: 1.0000\n",
      "Epoch 76/100\n",
      "3/3 [==============================] - 0s 3ms/step - loss: 0.1283 - acc: 1.0000\n",
      "Epoch 77/100\n",
      "3/3 [==============================] - 0s 3ms/step - loss: 0.1051 - acc: 1.0000\n",
      "Epoch 78/100\n",
      "3/3 [==============================] - 0s 3ms/step - loss: 0.1046 - acc: 1.0000\n",
      "Epoch 79/100\n",
      "3/3 [==============================] - 0s 3ms/step - loss: 0.0996 - acc: 1.0000\n",
      "Epoch 80/100\n",
      "3/3 [==============================] - 0s 3ms/step - loss: 0.1093 - acc: 0.9822\n",
      "Epoch 81/100\n",
      "3/3 [==============================] - 0s 3ms/step - loss: 0.0837 - acc: 1.0000\n",
      "Epoch 82/100\n",
      "3/3 [==============================] - 0s 3ms/step - loss: 0.0877 - acc: 1.0000\n",
      "Epoch 83/100\n",
      "3/3 [==============================] - 0s 3ms/step - loss: 0.1099 - acc: 0.9722\n",
      "Epoch 84/100\n",
      "3/3 [==============================] - 0s 4ms/step - loss: 0.0614 - acc: 1.0000\n",
      "Epoch 85/100\n",
      "3/3 [==============================] - 0s 3ms/step - loss: 0.0874 - acc: 0.9939\n",
      "Epoch 86/100\n",
      "3/3 [==============================] - 0s 3ms/step - loss: 0.1008 - acc: 1.0000\n",
      "Epoch 87/100\n",
      "3/3 [==============================] - 0s 3ms/step - loss: 0.0617 - acc: 1.0000\n",
      "Epoch 88/100\n",
      "3/3 [==============================] - 0s 3ms/step - loss: 0.0578 - acc: 1.0000\n",
      "Epoch 89/100\n",
      "3/3 [==============================] - 0s 3ms/step - loss: 0.0839 - acc: 1.0000\n",
      "Epoch 90/100\n",
      "3/3 [==============================] - 0s 3ms/step - loss: 0.0467 - acc: 1.0000\n",
      "Epoch 91/100\n",
      "3/3 [==============================] - 0s 3ms/step - loss: 0.0632 - acc: 0.9822\n",
      "Epoch 92/100\n",
      "3/3 [==============================] - 0s 3ms/step - loss: 0.0428 - acc: 1.0000\n",
      "Epoch 93/100\n",
      "3/3 [==============================] - 0s 3ms/step - loss: 0.0471 - acc: 1.0000\n",
      "Epoch 94/100\n",
      "3/3 [==============================] - 0s 4ms/step - loss: 0.0653 - acc: 1.0000\n",
      "Epoch 95/100\n",
      "3/3 [==============================] - 0s 3ms/step - loss: 0.0621 - acc: 1.0000\n",
      "Epoch 96/100\n",
      "3/3 [==============================] - 0s 3ms/step - loss: 0.0704 - acc: 1.0000\n",
      "Epoch 97/100\n",
      "3/3 [==============================] - 0s 3ms/step - loss: 0.0456 - acc: 1.0000\n",
      "Epoch 98/100\n",
      "3/3 [==============================] - 0s 3ms/step - loss: 0.0444 - acc: 1.0000\n",
      "Epoch 99/100\n",
      "3/3 [==============================] - 0s 3ms/step - loss: 0.0828 - acc: 0.9822\n",
      "Epoch 100/100\n",
      "3/3 [==============================] - 0s 3ms/step - loss: 0.0506 - acc: 1.0000\n"
     ]
    },
    {
     "output_type": "execute_result",
     "data": {
      "text/plain": [
       "<tensorflow.python.keras.callbacks.History at 0x184b40579d0>"
      ]
     },
     "metadata": {},
     "execution_count": 16
    }
   ],
   "metadata": {}
  },
  {
   "cell_type": "code",
   "execution_count": 17,
   "source": [
    "model.save(\"./models/bot_V1.model\")"
   ],
   "outputs": [
    {
     "output_type": "stream",
     "name": "stdout",
     "text": [
      "INFO:tensorflow:Assets written to: ./models/bot_V1.model\\assets\n"
     ]
    }
   ],
   "metadata": {}
  },
  {
   "cell_type": "code",
   "execution_count": 18,
   "source": [
    "model = keras.models.load_model(\"models/bot_V1.model\")\r\n",
    "words = pickle.load(open(\"words.pkl\", \"rb\"))\r\n",
    "classes = pickle.load(open(\"classes.pkl\", \"rb\"))"
   ],
   "outputs": [],
   "metadata": {}
  },
  {
   "cell_type": "code",
   "execution_count": 19,
   "source": [
    "def preprocess(item):\r\n",
    "    tokens = nltk.word_tokenize(item)\r\n",
    "    tokens = [lematizer.lemmatize(word) for word in tokens]\r\n",
    "    return tokens\r\n",
    "\r\n",
    "def bag_of_words(sentence):\r\n",
    "    sentence_words = preprocess(sentence)\r\n",
    "    bag = [0] * len(words)\r\n",
    "    for w in sentence_words:\r\n",
    "        for i, word in enumerate(words):\r\n",
    "            if word == w:\r\n",
    "                bag[i] = 1\r\n",
    "    \r\n",
    "    return np.array(bag)\r\n"
   ],
   "outputs": [],
   "metadata": {}
  },
  {
   "cell_type": "code",
   "execution_count": 20,
   "source": [
    "def predict_class(sentence, tolerance=0.7):\r\n",
    "    bow = bag_of_words(sentence)\r\n",
    "    prediction = model(np.array([bow]))[0]\r\n",
    "    max_value = max(prediction).numpy()\r\n",
    "    res = np.where(prediction.numpy() == max_value)[0][0]\r\n",
    "    if max_value >= tolerance:\r\n",
    "        return res\r\n",
    "    else:\r\n",
    "        return -1"
   ],
   "outputs": [],
   "metadata": {}
  },
  {
   "cell_type": "code",
   "execution_count": 21,
   "source": [
    "predict_class(\"Who made you\")"
   ],
   "outputs": [
    {
     "output_type": "execute_result",
     "data": {
      "text/plain": [
       "-1"
      ]
     },
     "metadata": {},
     "execution_count": 21
    }
   ],
   "metadata": {}
  },
  {
   "cell_type": "code",
   "execution_count": null,
   "source": [],
   "outputs": [],
   "metadata": {}
  }
 ],
 "metadata": {
  "orig_nbformat": 4,
  "language_info": {
   "name": "python",
   "version": "3.8.7",
   "mimetype": "text/x-python",
   "codemirror_mode": {
    "name": "ipython",
    "version": 3
   },
   "pygments_lexer": "ipython3",
   "nbconvert_exporter": "python",
   "file_extension": ".py"
  },
  "kernelspec": {
   "name": "python3",
   "display_name": "Python 3.8.7 64-bit"
  },
  "interpreter": {
   "hash": "94edbaacddaafd6d45ba5506bea1ce8a371c01e0c71d6cc8e1f8803236d6de55"
  }
 },
 "nbformat": 4,
 "nbformat_minor": 2
}